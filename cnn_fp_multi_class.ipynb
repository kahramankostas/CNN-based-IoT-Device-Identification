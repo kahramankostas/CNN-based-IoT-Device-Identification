{
 "cells": [
  {
   "cell_type": "code",
   "execution_count": 1,
   "metadata": {},
   "outputs": [],
   "source": [
    "import matplotlib.pyplot as plt\n",
    "from sklearn import preprocessing\n",
    "import matplotlib.pyplot as plt\n",
    "import pandas as pd\n",
    "import numpy as np\n",
    "import warnings\n",
    "import math\n",
    "warnings.filterwarnings(\"ignore\")\n",
    "input_shape = (5, 5, 1)\n",
    "from sklearn import metrics\n",
    "\n",
    "import tensorflow as tf\n",
    "#(x_train, y_train), (x_test, y_test) = tf.keras.datasets.mnist.load_data()\n",
    "#%matplotlib inline # Only use this if using iPython\n"
   ]
  },
  {
   "cell_type": "code",
   "execution_count": 2,
   "metadata": {},
   "outputs": [],
   "source": [
    "df=pd.read_csv(\"hybrid.csv\") \n",
    "x = df.iloc[:,0:25]\n",
    "\n",
    "min_max_scaler = preprocessing.MinMaxScaler()\n",
    "x = min_max_scaler.fit_transform(x)\n",
    "\n",
    "y= df['Label'].astype('category')\n",
    "\n",
    "y=y.cat.codes\n",
    "y=y.values\n",
    "y=np.array(y)\n",
    "\n"
   ]
  },
  {
   "cell_type": "code",
   "execution_count": 3,
   "metadata": {},
   "outputs": [
    {
     "name": "stdout",
     "output_type": "stream",
     "text": [
      "[ 4 15 16 ...  6  1 16]\n",
      "x_train shape :  (145020, 5, 5, 1)\n",
      "y_train shape :  (145020,)\n"
     ]
    }
   ],
   "source": [
    "from sklearn.model_selection import train_test_split\n",
    "x_train, x_test, y_train, y_test = train_test_split(x,y,test_size=0.25,random_state=1)\n",
    "x_train = x_train.reshape(-1,5,5,1) #(64,64,1)\n",
    "x_test = x_test.reshape(-1,5,5,1)    #(64,64,1)\n",
    "print(y_train )\n",
    "#y_train = y_train.reshape(-1,1)    #(64,64,1)\n",
    "print(\"x_train shape : \", x_train.shape)\n",
    "print(\"y_train shape : \", y_train.shape)"
   ]
  },
  {
   "cell_type": "code",
   "execution_count": 6,
   "metadata": {},
   "outputs": [
    {
     "name": "stderr",
     "output_type": "stream",
     "text": [
      "Using TensorFlow backend.\n"
     ]
    }
   ],
   "source": [
    "# Importing the required Keras modules containing model and layers\n",
    "from keras.models import Sequential\n",
    "from keras.layers import Dense, Conv2D, Dropout, Flatten, MaxPooling2D\n",
    "# Creating a Sequential Model and adding the layers\n",
    "model = Sequential()\n",
    "model.add(Conv2D(28, kernel_size=(3,3), input_shape=input_shape))\n",
    "model.add(MaxPooling2D(pool_size=(2, 2)))\n",
    "model.add(Flatten()) # Flattening the 2D arrays for fully connected layers\n",
    "model.add(Dense(128, activation=tf.nn.relu))\n",
    "model.add(Dropout(0.2))\n",
    "model.add(Dense(27,activation=tf.nn.softmax))"
   ]
  },
  {
   "cell_type": "code",
   "execution_count": 7,
   "metadata": {
    "scrolled": true
   },
   "outputs": [],
   "source": [
    "model.compile(optimizer='adam', \n",
    "              loss='sparse_categorical_crossentropy', \n",
    "              metrics=['accuracy'])\n"
   ]
  },
  {
   "cell_type": "code",
   "execution_count": 8,
   "metadata": {},
   "outputs": [
    {
     "name": "stdout",
     "output_type": "stream",
     "text": [
      "Epoch 1/10\n",
      "145020/145020 [==============================] - 14s 94us/step - loss: 1.8688 - acc: 0.4274\n",
      "Epoch 2/10\n",
      "145020/145020 [==============================] - 13s 91us/step - loss: 1.5195 - acc: 0.5006\n",
      "Epoch 3/10\n",
      "145020/145020 [==============================] - 13s 90us/step - loss: 1.3859 - acc: 0.5360\n",
      "Epoch 4/10\n",
      "145020/145020 [==============================] - 13s 92us/step - loss: 1.3191 - acc: 0.5527\n",
      "Epoch 5/10\n",
      "145020/145020 [==============================] - 13s 88us/step - loss: 1.2811 - acc: 0.5615\n",
      "Epoch 6/10\n",
      "145020/145020 [==============================] - 13s 89us/step - loss: 1.2562 - acc: 0.5667\n",
      "Epoch 7/10\n",
      "145020/145020 [==============================] - 13s 89us/step - loss: 1.2376 - acc: 0.5702\n",
      "Epoch 8/10\n",
      "145020/145020 [==============================] - 13s 88us/step - loss: 1.2245 - acc: 0.5727\n",
      "Epoch 9/10\n",
      "145020/145020 [==============================] - 14s 94us/step - loss: 1.2123 - acc: 0.5761\n",
      "Epoch 10/10\n",
      "145020/145020 [==============================] - 13s 90us/step - loss: 1.1978 - acc: 0.5795\n"
     ]
    },
    {
     "data": {
      "text/plain": [
       "<keras.callbacks.History at 0x2d40cffe0f0>"
      ]
     },
     "execution_count": 8,
     "metadata": {},
     "output_type": "execute_result"
    }
   ],
   "source": [
    "model.fit(x=x_train,y=y_train, epochs=10)"
   ]
  },
  {
   "cell_type": "code",
   "execution_count": 9,
   "metadata": {},
   "outputs": [
    {
     "name": "stdout",
     "output_type": "stream",
     "text": [
      "48340/48340 [==============================] - 2s 51us/step\n"
     ]
    },
    {
     "data": {
      "text/plain": [
       "[1.1542970274024429, 0.596048820842432]"
      ]
     },
     "execution_count": 9,
     "metadata": {},
     "output_type": "execute_result"
    }
   ],
   "source": [
    "model.evaluate(x_test, y_test)"
   ]
  },
  {
   "cell_type": "code",
   "execution_count": null,
   "metadata": {},
   "outputs": [],
   "source": []
  },
  {
   "cell_type": "code",
   "execution_count": null,
   "metadata": {},
   "outputs": [],
   "source": []
  },
  {
   "cell_type": "code",
   "execution_count": null,
   "metadata": {},
   "outputs": [],
   "source": []
  }
 ],
 "metadata": {
  "kernelspec": {
   "display_name": "Python 3",
   "language": "python",
   "name": "python3"
  },
  "language_info": {
   "codemirror_mode": {
    "name": "ipython",
    "version": 3
   },
   "file_extension": ".py",
   "mimetype": "text/x-python",
   "name": "python",
   "nbconvert_exporter": "python",
   "pygments_lexer": "ipython3",
   "version": "3.6.5"
  }
 },
 "nbformat": 4,
 "nbformat_minor": 2
}
